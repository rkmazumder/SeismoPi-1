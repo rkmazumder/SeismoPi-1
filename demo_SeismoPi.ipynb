{
 "cells": [
  {
   "cell_type": "markdown",
   "metadata": {},
   "source": [
    "## Seismic Analysis of Buried Pipelines"
   ]
  },
  {
   "cell_type": "code",
   "execution_count": 204,
   "metadata": {},
   "outputs": [],
   "source": [
    "#Directory"
   ]
  },
  {
   "cell_type": "code",
   "execution_count": 205,
   "metadata": {},
   "outputs": [
    {
     "name": "stdout",
     "output_type": "stream",
     "text": [
      "/Users/Ram/Dropbox/PyBackUp/Pipeline\n"
     ]
    }
   ],
   "source": [
    "cd /Users/Ram/Dropbox/PyBackUp/Pipeline/"
   ]
  },
  {
   "cell_type": "code",
   "execution_count": 206,
   "metadata": {},
   "outputs": [],
   "source": [
    "#Dependency\n",
    "import numpy as np\n",
    "import pandas as pd\n",
    "from scipy.spatial import distance\n",
    "import matplotlib.pyplot as plt\n",
    "import matplotlib.patches as mpatches\n",
    "import networkx as nx\n",
    "import sd\n",
    "from sd.dist import Distance\n",
    "from scipy.stats import expon, lognorm\n",
    "from sd.plot import plot_fragility_curve\n",
    "import fiona\n",
    "import ipyleaflet\n",
    "from ipyleaflet import Marker\n",
    "from ipyleaflet import Map\n",
    "from pyproj import Proj\n",
    "from pyproj import Proj, transform"
   ]
  },
  {
   "cell_type": "code",
   "execution_count": 207,
   "metadata": {},
   "outputs": [],
   "source": [
    "np.random.seed(100000)"
   ]
  },
  {
   "cell_type": "markdown",
   "metadata": {},
   "source": [
    "### Data import"
   ]
  },
  {
   "cell_type": "code",
   "execution_count": 208,
   "metadata": {},
   "outputs": [],
   "source": [
    "# read node and link positions\n",
    "node = pd.read_csv('node_demo.csv')\n",
    "# link = pd.read_csv('edge classify.csv')\n",
    "link = pd.read_csv('pipe_demo.csv')"
   ]
  },
  {
   "cell_type": "code",
   "execution_count": 209,
   "metadata": {},
   "outputs": [],
   "source": [
    "# link.drop(['PipID','Length','dia'], axis=1, inplace=True)"
   ]
  },
  {
   "cell_type": "code",
   "execution_count": 210,
   "metadata": {},
   "outputs": [],
   "source": [
    "# node['xx']=transform(Proj(init='epsg:4326'),Proj(init='epsg:3395'),node.x[0],node.y[0])[0]\n",
    "# node['yy']=transform(Proj(init='epsg:4326'),Proj(init='epsg:3395'),node.x[0],node.y[0])[1]"
   ]
  },
  {
   "cell_type": "markdown",
   "metadata": {},
   "source": [
    "### Define Earthquake Epicenter:"
   ]
  },
  {
   "cell_type": "code",
   "execution_count": 211,
   "metadata": {},
   "outputs": [],
   "source": [
    "# Define expicenter coordinates (check with above command)\n",
    "ex=-13589706.28220519; #this is longitude of the epicenter\n",
    "ey=4592436.47339457; #this is latitude of the epicenter\n",
    "M=7 # Richter Magnitude"
   ]
  },
  {
   "cell_type": "markdown",
   "metadata": {},
   "source": [
    "### Transform coordinates to utm"
   ]
  },
  {
   "cell_type": "code",
   "execution_count": 212,
   "metadata": {},
   "outputs": [],
   "source": [
    "# trasforming latlong into mercetor coordinates\n",
    "def tran(data):    \n",
    "    utmxy = {}\n",
    "    rx=[]\n",
    "    ry=[]\n",
    "    for index, row in data.iterrows():\n",
    "        x = row['x']\n",
    "        y = row['y']\n",
    "        inProj = Proj(init='epsg:4326')\n",
    "        outProj = Proj(init='epsg:3395')\n",
    "        cz = transform(inProj,outProj,x,y)\n",
    "#         utmxy[int(row['id'])]=(c,z)\n",
    "        r1=cz[0]\n",
    "        r2=cz[1]\n",
    "        rx.append(r1)\n",
    "        ry.append(r2)\n",
    "    rx=np.array(rx)\n",
    "    ry=np.array(ry)\n",
    "    return rx,ry"
   ]
  },
  {
   "cell_type": "code",
   "execution_count": 19,
   "metadata": {},
   "outputs": [],
   "source": [
    "rx,ry=tran(node)"
   ]
  },
  {
   "cell_type": "code",
   "execution_count": 20,
   "metadata": {},
   "outputs": [],
   "source": [
    "node_id = list(node.id)\n",
    "rx = list(rx)\n",
    "ry = list(ry)\n",
    "typ = list(node.type)\n",
    "dn1 = {'id':node_id,'x':rx,'y':ry,'type':typ}\n",
    "df1=pd.DataFrame(dn1)\n",
    "# df1.set_index('id');"
   ]
  },
  {
   "cell_type": "markdown",
   "metadata": {},
   "source": [
    "### Distance Check and Measure Length of  Links"
   ]
  },
  {
   "cell_type": "code",
   "execution_count": 22,
   "metadata": {},
   "outputs": [
    {
     "name": "stdout",
     "output_type": "stream",
     "text": [
      "14.298549230891647 km\n"
     ]
    }
   ],
   "source": [
    "# check the distance between two different points\n",
    "L1=df1.x[3],df1.y[3]\n",
    "L2=df1.x[5],df1.y[5]\n",
    "dist = distance.euclidean(L1, L2)\n",
    "print(dist/1000, \"km\")"
   ]
  },
  {
   "cell_type": "code",
   "execution_count": 23,
   "metadata": {},
   "outputs": [],
   "source": [
    "# data1 and data2 should be node and link, respectively\n",
    "def Length(data1,data2):  \n",
    "    dist=[]\n",
    "    for index, row in data2.iterrows():\n",
    "        sp=data1[data1.id==row['start_node']]\n",
    "        start_x, start_y = (list(sp.x),list(sp.y))\n",
    "        ep=data1[data1.id==row['end_node']]\n",
    "        end_x,end_y=(list(ep.x),list(ep.y))\n",
    "        lal = distance.euclidean((start_x, start_y),(end_x,end_y))\n",
    "        dist.append(lal)\n",
    "    dist=np.array(dist)\n",
    "    return dist"
   ]
  },
  {
   "cell_type": "code",
   "execution_count": 24,
   "metadata": {},
   "outputs": [],
   "source": [
    "link['link_m']=list(Length(node,link))"
   ]
  },
  {
   "cell_type": "markdown",
   "metadata": {},
   "source": [
    "### Classify and plot various components"
   ]
  },
  {
   "cell_type": "code",
   "execution_count": 213,
   "metadata": {},
   "outputs": [],
   "source": [
    "# node types\n",
    "a = node[node['type']==1]\n",
    "b = node[node['type']==2]\n",
    "c = node[node['type']==3]"
   ]
  },
  {
   "cell_type": "code",
   "execution_count": 214,
   "metadata": {},
   "outputs": [],
   "source": [
    "# pipe types\n",
    "p1 = link[link['type']==1]\n",
    "p2 = link[link['type']==2]"
   ]
  },
  {
   "cell_type": "code",
   "execution_count": 215,
   "metadata": {},
   "outputs": [],
   "source": [
    "# calculate distances,intensity from epicenter\n",
    "r1, pga1, pgv1, pos1 = Distance.com_pga_dist(a,ex,ey,M)\n",
    "r2, pga2, pgv2, pos2 = Distance.com_pga_dist(b,ex,ey,M)\n",
    "r3, pga3, pgv3, pos3 = Distance.com_pga_dist(c,ex,ey,M)"
   ]
  },
  {
   "cell_type": "code",
   "execution_count": 216,
   "metadata": {},
   "outputs": [
    {
     "data": {
      "image/png": "[encoded data removed]",
      "text/plain": [
       "<Figure size 396x360 with 1 Axes>"
      ]
     },
     "metadata": {},
     "output_type": "display_data"
    }
   ],
   "source": [
    "# plot graps with various components\n",
    "G1=nx.Graph()\n",
    "G1.add_nodes_from(pos1)\n",
    "G2=nx.Graph()\n",
    "G2.add_nodes_from(pos2)\n",
    "G3=nx.Graph()\n",
    "G3.add_nodes_from(pos3)\n",
    "nx.draw(G1,pos1,node_size=20,node_color='r',with_labels=False)\n",
    "nx.draw(G2,pos2,node_size=20,node_color='b',with_labels=False)\n",
    "nx.draw(G3,pos3,node_size=20,node_color='g',with_labels=False)"
   ]
  },
  {
   "cell_type": "code",
   "execution_count": 217,
   "metadata": {},
   "outputs": [],
   "source": [
    "r, pga, pgv, pos = Distance.com_pga_dist(node,ex,ey,M)"
   ]
  },
  {
   "cell_type": "code",
   "execution_count": 218,
   "metadata": {},
   "outputs": [],
   "source": [
    "d1 = []\n",
    "for index, row in p1.iterrows():\n",
    "    stt = str(row['start_node'])+str(row['end_node']).rjust(10)\n",
    "    d1.append(stt)\n",
    "d2 = []\n",
    "for index, row in p2.iterrows():\n",
    "    stt = str(row['start_node'])+str(row['end_node']).rjust(10)\n",
    "    d2.append(stt)"
   ]
  },
  {
   "cell_type": "code",
   "execution_count": 219,
   "metadata": {},
   "outputs": [
    {
     "data": {
      "image/png": "[encoded data removed]",
      "text/plain": [
       "<Figure size 396x360 with 1 Axes>"
      ]
     },
     "metadata": {},
     "output_type": "display_data"
    }
   ],
   "source": [
    "# draw Graph of water network\n",
    "G4 = nx.parse_edgelist(d1,nodetype=int)\n",
    "G5 = nx.parse_edgelist(d2,nodetype=int)\n",
    "nx.draw(G4,pos,node_size=10, node_color='k', edge_color='r',width=1.5)\n",
    "nx.draw(G5,pos,node_size=10, node_color='k', edge_color='b',width=1.5)\n",
    "nx.draw(G1,pos1,node_size=10,node_color='k',with_labels=False)\n",
    "nx.draw(G2,pos2,node_size=10,node_color='k',with_labels=False)\n",
    "nx.draw(G3,pos3,node_size=60,node_color='g',with_labels=False)\n",
    "plt.savefig('Demo_Network.png', dpi = 600,bbox_inches='tight')"
   ]
  },
  {
   "cell_type": "markdown",
   "metadata": {},
   "source": [
    "### PGA for nodes"
   ]
  },
  {
   "cell_type": "code",
   "execution_count": 32,
   "metadata": {},
   "outputs": [],
   "source": [
    "d = []\n",
    "for index, row in link.iterrows():\n",
    "    stt = str(row['start_node'])+str(row['end_node']).rjust(10)\n",
    "    d.append(stt)"
   ]
  },
  {
   "cell_type": "code",
   "execution_count": 33,
   "metadata": {},
   "outputs": [],
   "source": [
    "r, pga, pgv, pos = Distance.com_pga_dist(node,ex,ey,M)"
   ]
  },
  {
   "cell_type": "code",
   "execution_count": 34,
   "metadata": {},
   "outputs": [],
   "source": [
    "G = nx.parse_edgelist(d, nodetype = int, data=(('id',int),))"
   ]
  },
  {
   "cell_type": "code",
   "execution_count": 35,
   "metadata": {},
   "outputs": [],
   "source": [
    "node_list = list(G.nodes)\n",
    "pf = {'node_list':node_list}\n",
    "n_list=pd.DataFrame(pf)"
   ]
  },
  {
   "cell_type": "code",
   "execution_count": 37,
   "metadata": {},
   "outputs": [],
   "source": [
    "node_pga = list(pga)\n",
    "node_pgv = list(pgv)\n",
    "ind= list(pos)\n",
    "pf = {'node_pga':node_pga,'node_pgv':node_pgv,'pid':ind}\n",
    "n_int=pd.DataFrame(pf)\n",
    "# n_int.set_index('pid',inplace=True)"
   ]
  },
  {
   "cell_type": "code",
   "execution_count": 40,
   "metadata": {},
   "outputs": [
    {
     "data": {
      "image/png": "[encoded data removed]",
      "text/plain": [
       "<Figure size 432x288 with 2 Axes>"
      ]
     },
     "metadata": {},
     "output_type": "display_data"
    }
   ],
   "source": [
    "G = nx.parse_edgelist(d, nodetype = int, data=(('id',int),))\n",
    "# jet=plt.cm.jet\n",
    "nx.draw(G,pos,node_size=20,edge_color = 'k',node_color=n_out.node_pga,width=0.5,with_labels=False)\n",
    "sm = plt.cm.ScalarMappable(norm=plt.Normalize(n_out.node_pga.min(), n_out.node_pga.max()))\n",
    "plt.colorbar(sm,label='PGA(g)',shrink=0.7)\n",
    "plt.scatter(ex, ey, s=500, c='r', marker='*', zorder=2)\n",
    "plt.savefig('Demo_Node_PGA.png', dpi = 600,bbox_inches='tight')"
   ]
  },
  {
   "cell_type": "code",
   "execution_count": 41,
   "metadata": {},
   "outputs": [
    {
     "data": {
      "text/plain": [
       "(0.20628846029464096, 0.3244917516489607, 0.468126922903879)"
      ]
     },
     "execution_count": 41,
     "metadata": {},
     "output_type": "execute_result"
    }
   ],
   "source": [
    "Min, Mean, Max={n_out.node_pga.min(),n_out.node_pga.mean(), n_out.node_pga.max()}\n",
    "Min, Mean, Max"
   ]
  },
  {
   "cell_type": "markdown",
   "metadata": {},
   "source": [
    "### PGV for nodes"
   ]
  },
  {
   "cell_type": "code",
   "execution_count": 42,
   "metadata": {},
   "outputs": [],
   "source": [
    "#convert pgv(m/s) to pgv(in/s)\n",
    "node_pgv=n_out.node_pgv*100"
   ]
  },
  {
   "cell_type": "markdown",
   "metadata": {},
   "source": [
    "### PGA for Pipelines"
   ]
  },
  {
   "cell_type": "code",
   "execution_count": 55,
   "metadata": {},
   "outputs": [],
   "source": [
    "pipe_pga=p_out.link_pga"
   ]
  },
  {
   "cell_type": "markdown",
   "metadata": {},
   "source": [
    "### PGV for Pipelines"
   ]
  },
  {
   "cell_type": "code",
   "execution_count": 57,
   "metadata": {},
   "outputs": [],
   "source": [
    "pipe_pgv=p_out.link_pgv*39.3701"
   ]
  },
  {
   "cell_type": "code",
   "execution_count": 58,
   "metadata": {},
   "outputs": [
    {
     "data": {
      "image/png": "[encoded data removed]",
      "text/plain": [
       "<Figure size 432x288 with 2 Axes>"
      ]
     },
     "metadata": {},
     "output_type": "display_data"
    }
   ],
   "source": [
    "G = nx.parse_edgelist(d, nodetype = int, data=(('id',int),))\n",
    "jet=plt.cm.jet\n",
    "nx.draw(G,pos,node_size=5,edge_color =pipe_pgv, node_color='k',width=1.5,with_labels=False)\n",
    "sm = plt.cm.ScalarMappable(norm=plt.Normalize(pipe_pgv.min(), pipe_pgv.max()))\n",
    "plt.colorbar(sm,label='PGV(in/s)',shrink=0.7)\n",
    "plt.scatter(ex, ey, s=500, c='r', marker='*', zorder=2)\n",
    "plt.savefig('Demo_Link_PGV.png', dpi = 600,bbox_inches='tight')"
   ]
  },
  {
   "cell_type": "code",
   "execution_count": 59,
   "metadata": {},
   "outputs": [
    {
     "data": {
      "text/plain": [
       "(72.01221363726988, 37.774767771129845, 13.472550662417833)"
      ]
     },
     "execution_count": 59,
     "metadata": {},
     "output_type": "execute_result"
    }
   ],
   "source": [
    "Min, Mean, Max={pipe_pgv.min(),pipe_pgv.mean(), pipe_pgv.max()}\n",
    "Min, Mean, Max"
   ]
  },
  {
   "cell_type": "markdown",
   "metadata": {},
   "source": [
    "### ALA Repair Rates"
   ]
  },
  {
   "cell_type": "code",
   "execution_count": 60,
   "metadata": {},
   "outputs": [],
   "source": [
    "r_rate=0.00187*pipe_pgv"
   ]
  },
  {
   "cell_type": "code",
   "execution_count": 61,
   "metadata": {},
   "outputs": [
    {
     "data": {
      "image/png": "[encoded data removed]",
      "text/plain": [
       "<Figure size 432x288 with 2 Axes>"
      ]
     },
     "metadata": {},
     "output_type": "display_data"
    }
   ],
   "source": [
    "G = nx.parse_edgelist(d, nodetype = int, data=(('id',int),))\n",
    "jet=plt.cm.jet\n",
    "nx.draw(G,pos,node_size=5,edge_color =r_rate, node_color='k',width=1.5,with_labels=False)\n",
    "sm = plt.cm.ScalarMappable(norm=plt.Normalize(r_rate.min(), r_rate.max()))\n",
    "plt.colorbar(sm,label='Repair Rate/1000 ft',shrink=0.7)\n",
    "# plt.scatter(ex, ey, s=1000, c='r', marker='*', zorder=2)\n",
    "plt.savefig('Demo_repair_rate.png', dpi = 600,bbox_inches='tight')"
   ]
  },
  {
   "cell_type": "code",
   "execution_count": 62,
   "metadata": {},
   "outputs": [
    {
     "data": {
      "text/plain": [
       "(0.025193669738721346, 0.13466283950169466, 0.07063881573201279)"
      ]
     },
     "execution_count": 62,
     "metadata": {},
     "output_type": "execute_result"
    }
   ],
   "source": [
    "value=r_rate\n",
    "Min, Mean, Max={value.min(),value.mean(), value.max()}\n",
    "Min, Mean, Max"
   ]
  },
  {
   "cell_type": "markdown",
   "metadata": {},
   "source": [
    "### Correction Factors"
   ]
  },
  {
   "cell_type": "code",
   "execution_count": 74,
   "metadata": {},
   "outputs": [],
   "source": [
    "pipe_characteristics = pd.read_csv('pipe_demo.csv',dtype={'index':str})"
   ]
  },
  {
   "cell_type": "code",
   "execution_count": 75,
   "metadata": {},
   "outputs": [],
   "source": [
    "pipe_characteristics.set_index('PipID',inplace=True)"
   ]
  },
  {
   "cell_type": "code",
   "execution_count": 76,
   "metadata": {},
   "outputs": [
    {
     "data": {
      "text/html": [
       "<div>\n",
       "<style scoped>\n",
       "    .dataframe tbody tr th:only-of-type {\n",
       "        vertical-align: middle;\n",
       "    }\n",
       "\n",
       "    .dataframe tbody tr th {\n",
       "        vertical-align: top;\n",
       "    }\n",
       "\n",
       "    .dataframe thead th {\n",
       "        text-align: right;\n",
       "    }\n",
       "</style>\n",
       "<table border=\"1\" class=\"dataframe\">\n",
       "  <thead>\n",
       "    <tr style=\"text-align: right;\">\n",
       "      <th></th>\n",
       "      <th>start_node</th>\n",
       "      <th>end_node</th>\n",
       "      <th>type</th>\n",
       "      <th>Length</th>\n",
       "      <th>dia</th>\n",
       "      <th>M_type</th>\n",
       "      <th>Material</th>\n",
       "      <th>soil_type</th>\n",
       "      <th>age</th>\n",
       "    </tr>\n",
       "    <tr>\n",
       "      <th>PipID</th>\n",
       "      <th></th>\n",
       "      <th></th>\n",
       "      <th></th>\n",
       "      <th></th>\n",
       "      <th></th>\n",
       "      <th></th>\n",
       "      <th></th>\n",
       "      <th></th>\n",
       "      <th></th>\n",
       "    </tr>\n",
       "  </thead>\n",
       "  <tbody>\n",
       "    <tr>\n",
       "      <th>119</th>\n",
       "      <td>10</td>\n",
       "      <td>11</td>\n",
       "      <td>1</td>\n",
       "      <td>570</td>\n",
       "      <td>24</td>\n",
       "      <td>CI</td>\n",
       "      <td>CIP</td>\n",
       "      <td>H</td>\n",
       "      <td>1930</td>\n",
       "    </tr>\n",
       "    <tr>\n",
       "      <th>121</th>\n",
       "      <td>11</td>\n",
       "      <td>12</td>\n",
       "      <td>1</td>\n",
       "      <td>240</td>\n",
       "      <td>16</td>\n",
       "      <td>CI</td>\n",
       "      <td>CIP</td>\n",
       "      <td>M</td>\n",
       "      <td>1930</td>\n",
       "    </tr>\n",
       "  </tbody>\n",
       "</table>\n",
       "</div>"
      ],
      "text/plain": [
       "       start_node  end_node  type  Length  dia M_type Material soil_type   age\n",
       "PipID                                                                         \n",
       "119            10        11     1     570   24     CI      CIP         H  1930\n",
       "121            11        12     1     240   16     CI      CIP         M  1930"
      ]
     },
     "execution_count": 76,
     "metadata": {},
     "output_type": "execute_result"
    }
   ],
   "source": [
    "pipe_characteristics.head(2)"
   ]
  },
  {
   "cell_type": "code",
   "execution_count": 77,
   "metadata": {},
   "outputs": [],
   "source": [
    "C=sd.cf.correction_factor(pipe_characteristics)"
   ]
  },
  {
   "cell_type": "code",
   "execution_count": 78,
   "metadata": {},
   "outputs": [
    {
     "data": {
      "text/html": [
       "<div>\n",
       "<style scoped>\n",
       "    .dataframe tbody tr th:only-of-type {\n",
       "        vertical-align: middle;\n",
       "    }\n",
       "\n",
       "    .dataframe tbody tr th {\n",
       "        vertical-align: top;\n",
       "    }\n",
       "\n",
       "    .dataframe thead th {\n",
       "        text-align: right;\n",
       "    }\n",
       "</style>\n",
       "<table border=\"1\" class=\"dataframe\">\n",
       "  <thead>\n",
       "    <tr style=\"text-align: right;\">\n",
       "      <th></th>\n",
       "      <th>Id</th>\n",
       "      <th>C</th>\n",
       "    </tr>\n",
       "  </thead>\n",
       "  <tbody>\n",
       "    <tr>\n",
       "      <th>11</th>\n",
       "      <td>139</td>\n",
       "      <td>2.5</td>\n",
       "    </tr>\n",
       "    <tr>\n",
       "      <th>12</th>\n",
       "      <td>141</td>\n",
       "      <td>2.5</td>\n",
       "    </tr>\n",
       "  </tbody>\n",
       "</table>\n",
       "</div>"
      ],
      "text/plain": [
       "     Id    C\n",
       "11  139  2.5\n",
       "12  141  2.5"
      ]
     },
     "execution_count": 78,
     "metadata": {},
     "output_type": "execute_result"
    }
   ],
   "source": [
    "link_id=list(C.index)\n",
    "link_C=list(C)\n",
    "pf = {'Id':pipe_id,'C':link_C}\n",
    "c_list=pd.DataFrame(pf)\n",
    "c_list.tail(2)"
   ]
  },
  {
   "cell_type": "code",
   "execution_count": 79,
   "metadata": {},
   "outputs": [
    {
     "data": {
      "text/html": [
       "<div>\n",
       "<style scoped>\n",
       "    .dataframe tbody tr th:only-of-type {\n",
       "        vertical-align: middle;\n",
       "    }\n",
       "\n",
       "    .dataframe tbody tr th {\n",
       "        vertical-align: top;\n",
       "    }\n",
       "\n",
       "    .dataframe thead th {\n",
       "        text-align: right;\n",
       "    }\n",
       "</style>\n",
       "<table border=\"1\" class=\"dataframe\">\n",
       "  <thead>\n",
       "    <tr style=\"text-align: right;\">\n",
       "      <th></th>\n",
       "      <th>el</th>\n",
       "    </tr>\n",
       "  </thead>\n",
       "  <tbody>\n",
       "    <tr>\n",
       "      <th>11</th>\n",
       "      <td>139</td>\n",
       "    </tr>\n",
       "    <tr>\n",
       "      <th>12</th>\n",
       "      <td>125</td>\n",
       "    </tr>\n",
       "  </tbody>\n",
       "</table>\n",
       "</div>"
      ],
      "text/plain": [
       "     el\n",
       "11  139\n",
       "12  125"
      ]
     },
     "execution_count": 79,
     "metadata": {},
     "output_type": "execute_result"
    }
   ],
   "source": [
    "G = nx.parse_edgelist(dp, nodetype = int, data=(('id',int),))\n",
    "edges= nx.get_edge_attributes(G,'id')\n",
    "edge_list=list(edges.values())\n",
    "pk = {'el':edge_list}\n",
    "c_adj=pd.DataFrame(pk)\n",
    "c_adj.tail(2)"
   ]
  },
  {
   "cell_type": "code",
   "execution_count": 80,
   "metadata": {},
   "outputs": [],
   "source": [
    "c_fact=c_adj.merge(c_list, left_on='el', right_on='Id')"
   ]
  },
  {
   "cell_type": "code",
   "execution_count": 81,
   "metadata": {},
   "outputs": [
    {
     "data": {
      "text/html": [
       "<div>\n",
       "<style scoped>\n",
       "    .dataframe tbody tr th:only-of-type {\n",
       "        vertical-align: middle;\n",
       "    }\n",
       "\n",
       "    .dataframe tbody tr th {\n",
       "        vertical-align: top;\n",
       "    }\n",
       "\n",
       "    .dataframe thead th {\n",
       "        text-align: right;\n",
       "    }\n",
       "</style>\n",
       "<table border=\"1\" class=\"dataframe\">\n",
       "  <thead>\n",
       "    <tr style=\"text-align: right;\">\n",
       "      <th></th>\n",
       "      <th>el</th>\n",
       "      <th>Id</th>\n",
       "      <th>C</th>\n",
       "    </tr>\n",
       "  </thead>\n",
       "  <tbody>\n",
       "    <tr>\n",
       "      <th>11</th>\n",
       "      <td>139</td>\n",
       "      <td>139</td>\n",
       "      <td>2.50</td>\n",
       "    </tr>\n",
       "    <tr>\n",
       "      <th>12</th>\n",
       "      <td>125</td>\n",
       "      <td>125</td>\n",
       "      <td>0.75</td>\n",
       "    </tr>\n",
       "  </tbody>\n",
       "</table>\n",
       "</div>"
      ],
      "text/plain": [
       "     el   Id     C\n",
       "11  139  139  2.50\n",
       "12  125  125  0.75"
      ]
     },
     "execution_count": 81,
     "metadata": {},
     "output_type": "execute_result"
    }
   ],
   "source": [
    "c_fact.tail(2)"
   ]
  },
  {
   "cell_type": "code",
   "execution_count": 82,
   "metadata": {},
   "outputs": [
    {
     "data": {
      "image/png": "[encoded data removed]",
      "text/plain": [
       "<Figure size 432x288 with 2 Axes>"
      ]
     },
     "metadata": {},
     "output_type": "display_data"
    }
   ],
   "source": [
    "c_color=plt.cm.jet\n",
    "G = nx.parse_edgelist(d, nodetype = int, data=(('id',int),))\n",
    "nx.draw(G,pos,node_size=5,edge_color =c_fact.C, node_color='k',width=1.5,with_labels=False,edge_cmap = c_color)\n",
    "sm = plt.cm.ScalarMappable(norm=plt.Normalize(c_fact.C.min(), c_fact.C.max()),cmap = c_color)\n",
    "plt.colorbar(sm,label='Correction Factor',shrink=0.6)\n",
    "# plt.scatter(ex, ey, s=1000, c='r', marker='*', zorder=2)\n",
    "plt.savefig('Demo_Correc_Factor.png', dpi = 600,bbox_inches='tight')"
   ]
  },
  {
   "cell_type": "markdown",
   "metadata": {},
   "source": [
    "### Table_Merged"
   ]
  },
  {
   "cell_type": "code",
   "execution_count": 83,
   "metadata": {},
   "outputs": [],
   "source": [
    "nn=c_adj.merge(link, left_on='el', right_on='PipID')"
   ]
  },
  {
   "cell_type": "code",
   "execution_count": 84,
   "metadata": {},
   "outputs": [],
   "source": [
    "rkk=nn.merge(p_out, left_on='el', right_on='Id')"
   ]
  },
  {
   "cell_type": "code",
   "execution_count": 85,
   "metadata": {},
   "outputs": [],
   "source": [
    "out=rkk.merge(c_fact, left_on='el_x', right_on='el')"
   ]
  },
  {
   "cell_type": "code",
   "execution_count": 86,
   "metadata": {},
   "outputs": [
    {
     "data": {
      "text/html": [
       "<div>\n",
       "<style scoped>\n",
       "    .dataframe tbody tr th:only-of-type {\n",
       "        vertical-align: middle;\n",
       "    }\n",
       "\n",
       "    .dataframe tbody tr th {\n",
       "        vertical-align: top;\n",
       "    }\n",
       "\n",
       "    .dataframe thead th {\n",
       "        text-align: right;\n",
       "    }\n",
       "</style>\n",
       "<table border=\"1\" class=\"dataframe\">\n",
       "  <thead>\n",
       "    <tr style=\"text-align: right;\">\n",
       "      <th></th>\n",
       "      <th>el_x</th>\n",
       "      <th>start_node</th>\n",
       "      <th>end_node</th>\n",
       "      <th>type</th>\n",
       "      <th>PipID</th>\n",
       "      <th>Length</th>\n",
       "      <th>dia</th>\n",
       "      <th>M_type</th>\n",
       "      <th>Material</th>\n",
       "      <th>soil_type</th>\n",
       "      <th>age</th>\n",
       "      <th>link_m</th>\n",
       "      <th>el_y</th>\n",
       "      <th>Id_x</th>\n",
       "      <th>link_pga</th>\n",
       "      <th>link_pgv</th>\n",
       "      <th>el</th>\n",
       "      <th>Id_y</th>\n",
       "      <th>C</th>\n",
       "    </tr>\n",
       "  </thead>\n",
       "  <tbody>\n",
       "    <tr>\n",
       "      <th>0</th>\n",
       "      <td>119</td>\n",
       "      <td>10</td>\n",
       "      <td>11</td>\n",
       "      <td>1</td>\n",
       "      <td>119</td>\n",
       "      <td>570</td>\n",
       "      <td>24</td>\n",
       "      <td>CI</td>\n",
       "      <td>CIP</td>\n",
       "      <td>H</td>\n",
       "      <td>1930</td>\n",
       "      <td>3575.771287</td>\n",
       "      <td>119</td>\n",
       "      <td>119</td>\n",
       "      <td>0.438575</td>\n",
       "      <td>1.782180</td>\n",
       "      <td>119</td>\n",
       "      <td>119</td>\n",
       "      <td>2.5</td>\n",
       "    </tr>\n",
       "    <tr>\n",
       "      <th>1</th>\n",
       "      <td>141</td>\n",
       "      <td>9</td>\n",
       "      <td>10</td>\n",
       "      <td>2</td>\n",
       "      <td>141</td>\n",
       "      <td>190</td>\n",
       "      <td>24</td>\n",
       "      <td>CI</td>\n",
       "      <td>CIP</td>\n",
       "      <td>H</td>\n",
       "      <td>1930</td>\n",
       "      <td>2894.440344</td>\n",
       "      <td>141</td>\n",
       "      <td>141</td>\n",
       "      <td>0.443740</td>\n",
       "      <td>1.829109</td>\n",
       "      <td>141</td>\n",
       "      <td>141</td>\n",
       "      <td>2.5</td>\n",
       "    </tr>\n",
       "  </tbody>\n",
       "</table>\n",
       "</div>"
      ],
      "text/plain": [
       "   el_x  start_node  end_node  type  PipID  Length  dia M_type Material  \\\n",
       "0   119          10        11     1    119     570   24     CI      CIP   \n",
       "1   141           9        10     2    141     190   24     CI      CIP   \n",
       "\n",
       "  soil_type   age       link_m  el_y  Id_x  link_pga  link_pgv   el  Id_y    C  \n",
       "0         H  1930  3575.771287   119   119  0.438575  1.782180  119   119  2.5  \n",
       "1         H  1930  2894.440344   141   141  0.443740  1.829109  141   141  2.5  "
      ]
     },
     "execution_count": 86,
     "metadata": {},
     "output_type": "execute_result"
    }
   ],
   "source": [
    "out.head(2)"
   ]
  },
  {
   "cell_type": "markdown",
   "metadata": {},
   "source": [
    "### Modified Repair Rate (per 1000 ft) considering Correction Factors"
   ]
  },
  {
   "cell_type": "code",
   "execution_count": 93,
   "metadata": {},
   "outputs": [],
   "source": [
    "Mod_RR=0.00187*out.link_pgv*39.3701*out.C"
   ]
  },
  {
   "cell_type": "code",
   "execution_count": 94,
   "metadata": {},
   "outputs": [
    {
     "data": {
      "image/png": "[encoded data removed]",
      "text/plain": [
       "<Figure size 432x288 with 2 Axes>"
      ]
     },
     "metadata": {},
     "output_type": "display_data"
    }
   ],
   "source": [
    "edge_value=Mod_RR\n",
    "c_color=plt.cm.jet\n",
    "G = nx.parse_edgelist(d, nodetype = int, data=(('id',int),))\n",
    "nx.draw(G,pos,node_size=5,edge_color =edge_value, node_color='k',width=1.5,with_labels=False)\n",
    "sm = plt.cm.ScalarMappable(norm=plt.Normalize(edge_value.min(), edge_value.max()))\n",
    "plt.colorbar(sm,label='Reair Rate/1000 ft',shrink=0.7)\n",
    "# plt.scatter(ex, ey, s=1000, c='r', marker='*', zorder=2)\n",
    "plt.savefig('Demo_Mod_RR.png', dpi = 600,bbox_inches='tight')"
   ]
  },
  {
   "cell_type": "code",
   "execution_count": 95,
   "metadata": {},
   "outputs": [],
   "source": [
    "Min, Mean, Max={Mod_RR.min(),Mod_RR.mean(), Mod_RR.max()}"
   ]
  },
  {
   "cell_type": "code",
   "execution_count": 96,
   "metadata": {},
   "outputs": [
    {
     "data": {
      "text/plain": [
       "(0.01889525230404101, 0.33665709875423666, 0.11682231612038366)"
      ]
     },
     "execution_count": 96,
     "metadata": {},
     "output_type": "execute_result"
    }
   ],
   "source": [
    "Min, Mean, Max"
   ]
  },
  {
   "cell_type": "markdown",
   "metadata": {},
   "source": [
    "### New Control Variable (Θ)"
   ]
  },
  {
   "cell_type": "code",
   "execution_count": 97,
   "metadata": {},
   "outputs": [],
   "source": [
    "C_PGV_L=(out.C)*(out.link_pgv*39.3701)*(out.link_m*3.28084/1000)"
   ]
  },
  {
   "cell_type": "code",
   "execution_count": 98,
   "metadata": {},
   "outputs": [
    {
     "data": {
      "image/png": "[encoded data removed]",
      "text/plain": [
       "<Figure size 432x288 with 2 Axes>"
      ]
     },
     "metadata": {},
     "output_type": "display_data"
    }
   ],
   "source": [
    "edge_value=C_PGV_L\n",
    "c_color=plt.cm.rainbow\n",
    "G = nx.parse_edgelist(d, nodetype = int, data=(('id',int),))\n",
    "nx.draw(G,pos,node_size=5,edge_color =edge_value, node_color='k',width=1.5,with_labels=False,edge_cmap = c_color)\n",
    "sm = plt.cm.ScalarMappable(norm=plt.Normalize(edge_value.min(), edge_value.max()),cmap = c_color)\n",
    "plt.colorbar(sm,label='Θ',shrink=0.7)\n",
    "# plt.scatter(ex, ey, s=500, c='r', marker='*', zorder=2)\n",
    "plt.savefig('Demo_C_PGV_L.png', dpi = 600,bbox_inches='tight')"
   ]
  },
  {
   "cell_type": "code",
   "execution_count": 99,
   "metadata": {},
   "outputs": [
    {
     "data": {
      "text/plain": [
       "(73.06003844690976, 2243.3439604765795, 1110.2975583580283)"
      ]
     },
     "execution_count": 99,
     "metadata": {},
     "output_type": "execute_result"
    }
   ],
   "source": [
    "Min, Mean, Max={C_PGV_L.min(),C_PGV_L.mean(), C_PGV_L.max()}\n",
    "Min, Mean, Max"
   ]
  },
  {
   "cell_type": "markdown",
   "metadata": {},
   "source": [
    "### Pipe Age"
   ]
  },
  {
   "cell_type": "code",
   "execution_count": 100,
   "metadata": {},
   "outputs": [
    {
     "data": {
      "image/png": "[encoded data removed]",
      "text/plain": [
       "<Figure size 432x288 with 2 Axes>"
      ]
     },
     "metadata": {},
     "output_type": "display_data"
    }
   ],
   "source": [
    "edge_value=2020-out.age\n",
    "c_color=plt.cm.rainbow\n",
    "G = nx.parse_edgelist(d, nodetype = int, data=(('id',int),))\n",
    "nx.draw(G,pos,node_size=5,edge_color =edge_value, node_color='k',width=1.5,with_labels=False,edge_cmap = c_color)\n",
    "sm = plt.cm.ScalarMappable(norm=plt.Normalize(edge_value.min(), edge_value.max()),cmap = c_color)\n",
    "plt.colorbar(sm,label='Age (Year)',shrink=0.7)\n",
    "# plt.scatter(ex, ey, s=500, c='r', marker='*', zorder=2)\n",
    "plt.savefig('Demo_Age.png', dpi = 600,bbox_inches='tight')"
   ]
  },
  {
   "cell_type": "markdown",
   "metadata": {},
   "source": [
    "### Probability of Failure"
   ]
  },
  {
   "cell_type": "markdown",
   "metadata": {},
   "source": [
    "#### Pipe Leak"
   ]
  },
  {
   "cell_type": "code",
   "execution_count": 101,
   "metadata": {},
   "outputs": [],
   "source": [
    "P_leak=1-np.exp(-0.00187*C_PGV_L)"
   ]
  },
  {
   "cell_type": "code",
   "execution_count": 102,
   "metadata": {},
   "outputs": [
    {
     "data": {
      "image/png": "[encoded data removed]",
      "text/plain": [
       "<Figure size 432x288 with 2 Axes>"
      ]
     },
     "metadata": {},
     "output_type": "display_data"
    }
   ],
   "source": [
    "edge_value=P_leak\n",
    "c_color=plt.cm.jet\n",
    "G = nx.parse_edgelist(d, nodetype = int, data=(('id',int),))\n",
    "nx.draw(G,pos,node_size=5,edge_color =edge_value, node_color='k',width=1.5,with_labels=False,edge_cmap = c_color)\n",
    "sm = plt.cm.ScalarMappable(norm=plt.Normalize(edge_value.min(), edge_value.max()),cmap = c_color)\n",
    "plt.colorbar(sm,label='P(leak)',shrink=0.7)\n",
    "# plt.scatter(ex, ey, s=500, c='r', marker='*', zorder=2)\n",
    "plt.savefig('Demo_P_leak.png', dpi = 600,bbox_inches='tight')"
   ]
  },
  {
   "cell_type": "markdown",
   "metadata": {},
   "source": [
    "#### Pipe Break"
   ]
  },
  {
   "cell_type": "code",
   "execution_count": 103,
   "metadata": {},
   "outputs": [],
   "source": [
    "P_break=P_leak*0.25"
   ]
  },
  {
   "cell_type": "code",
   "execution_count": 104,
   "metadata": {},
   "outputs": [
    {
     "data": {
      "image/png": "[encoded data removed]",
      "text/plain": [
       "<Figure size 432x288 with 2 Axes>"
      ]
     },
     "metadata": {},
     "output_type": "display_data"
    }
   ],
   "source": [
    "edge_value=P_break\n",
    "c_color=plt.cm.nipy_spectral\n",
    "G = nx.parse_edgelist(d, nodetype = int, data=(('id',int),))\n",
    "nx.draw(G,pos,node_size=5,edge_color =edge_value, node_color='k',width=1.5,with_labels=False,edge_cmap = c_color)\n",
    "sm = plt.cm.ScalarMappable(norm=plt.Normalize(edge_value.min(), edge_value.max()),cmap = c_color)\n",
    "plt.colorbar(sm,label='P(break)',shrink=0.7)\n",
    "# plt.scatter(ex, ey, s=500, c='r', marker='*', zorder=2)\n",
    "plt.savefig('Demo_P_break.png', dpi = 600,bbox_inches='tight')"
   ]
  },
  {
   "cell_type": "markdown",
   "metadata": {},
   "source": [
    "# Damage States"
   ]
  },
  {
   "cell_type": "markdown",
   "metadata": {},
   "source": [
    "### Node damage simulations"
   ]
  },
  {
   "cell_type": "code",
   "execution_count": 105,
   "metadata": {},
   "outputs": [],
   "source": [
    "np.random.seed(10000)"
   ]
  },
  {
   "cell_type": "code",
   "execution_count": 107,
   "metadata": {},
   "outputs": [],
   "source": [
    "r, pga, pgv, pos = Distance.com_pga_dist(node,ex,ey,M)"
   ]
  },
  {
   "cell_type": "code",
   "execution_count": 108,
   "metadata": {},
   "outputs": [],
   "source": [
    "node_id = list(node.id)\n",
    "pga_val = list(pga)\n",
    "dn1 = {'Id':node_id,'pga1':pga_val}\n",
    "df1=pd.DataFrame(dn1)\n",
    "df1.set_index('Id',inplace=True);"
   ]
  },
  {
   "cell_type": "code",
   "execution_count": 110,
   "metadata": {},
   "outputs": [
    {
     "data": {
      "text/plain": [
       "0    7\n",
       "1    4\n",
       "dtype: int64"
      ]
     },
     "execution_count": 110,
     "metadata": {},
     "output_type": "execute_result"
    }
   ],
   "source": [
    "np.random.seed(12345)\n",
    "node_Pr = node_FC.cdf_probability(df1['pga1'])\n",
    "node_damage_state = node_FC.sample_damage_state(node_Pr)\n",
    "node_damage_state_map = node_FC.get_priority_map()\n",
    "node_damage_val = node_damage_state.map(node_damage_state_map)\n",
    "node_damage_val.value_counts()"
   ]
  },
  {
   "cell_type": "code",
   "execution_count": 112,
   "metadata": {},
   "outputs": [],
   "source": [
    "node_damage_val;"
   ]
  },
  {
   "cell_type": "code",
   "execution_count": 113,
   "metadata": {},
   "outputs": [
    {
     "data": {
      "image/png": "[encoded data removed]",
      "text/plain": [
       "<Figure size 432x288 with 2 Axes>"
      ]
     },
     "metadata": {},
     "output_type": "display_data"
    }
   ],
   "source": [
    "edge_value=node_damage_val\n",
    "c_color=plt.cm.cool\n",
    "nx.draw(G,pos,node_size=25,edge_color ='k', node_color=edge_value, width=0.5,with_labels=False,cmap = c_color)\n",
    "sm = plt.cm.ScalarMappable(norm=plt.Normalize(edge_value.min(), edge_value.max()),cmap = c_color)\n",
    "plt.colorbar(sm,label='Pf')\n",
    "plt.savefig('Demo_Source_Damage.png', dpi = 600,bbox_inches='tight')"
   ]
  },
  {
   "cell_type": "markdown",
   "metadata": {},
   "source": [
    "### Pipe damage simulations"
   ]
  },
  {
   "cell_type": "code",
   "execution_count": 114,
   "metadata": {},
   "outputs": [
    {
     "data": {
      "image/png": "[encoded data removed]",
      "text/plain": [
       "<Figure size 720x432 with 1 Axes>"
      ]
     },
     "metadata": {
      "needs_background": "light"
     },
     "output_type": "display_data"
    }
   ],
   "source": [
    "pipe_FC = sd.FragilityCurve()\n",
    "pipe_FC.add_state('Break', 2, {'Default': expon(scale=1/(0.00187*.25))})\n",
    "pipe_FC.add_state('Leak', 1, {'Default': expon(scale=1/(0.00187))})\n",
    "plot_fragility_curve(pipe_FC, xlabel='Θ', ylabel='Prob. of Failure',fill=False,xmax=1000)\n",
    "plt.xlabel('Θ',size=20)\n",
    "plt.ylabel('Prob. of Failure',size=20)\n",
    "plt.legend(prop={'size':16},loc='upper left')\n",
    "plt.rc('font',family='Times New Roman')\n",
    "plt.rc('xtick', labelsize=16)\n",
    "plt.rc('ytick', labelsize=16)\n",
    "plt.grid(False)\n",
    "plt.savefig('Fragility.png', dpi = 600,bbox_inches='tight')"
   ]
  },
  {
   "cell_type": "code",
   "execution_count": 115,
   "metadata": {},
   "outputs": [],
   "source": [
    "pga_link,pgv_link = Distance.pga_for_link(link,node,ex,ey,M)"
   ]
  },
  {
   "cell_type": "code",
   "execution_count": 116,
   "metadata": {},
   "outputs": [],
   "source": [
    "p11_id = list(link.PipID)\n",
    "p11_pga=list(pgv_link)\n",
    "p11_len=list(out.link_m)\n",
    "CV=list(C_PGV_L)\n",
    "pk = {'Id':p11_id,'pgv':p11_pga,'len':p11_len,'CV':C_PGV_L}\n",
    "pip_f=pd.DataFrame(pk)\n",
    "pip_f.set_index('Id',inplace=True)"
   ]
  },
  {
   "cell_type": "code",
   "execution_count": 118,
   "metadata": {},
   "outputs": [
    {
     "data": {
      "text/plain": [
       "1    6\n",
       "2    4\n",
       "0    3\n",
       "dtype: int64"
      ]
     },
     "execution_count": 118,
     "metadata": {},
     "output_type": "execute_result"
    }
   ],
   "source": [
    "np.random.seed(12345)\n",
    "pipe_Pr = pipe_FC.cdf_probability(pip_f['CV'])\n",
    "pipe_damage_state = pipe_FC.sample_damage_state(pipe_Pr)\n",
    "pipe_damage_state_map = pipe_FC.get_priority_map()\n",
    "pipe_damage_val = pipe_damage_state.map(pipe_damage_state_map)\n",
    "pipe_damage_val.value_counts()"
   ]
  },
  {
   "cell_type": "code",
   "execution_count": 119,
   "metadata": {},
   "outputs": [
    {
     "data": {
      "image/png": "[encoded data removed]",
      "text/plain": [
       "<Figure size 432x288 with 1 Axes>"
      ]
     },
     "metadata": {},
     "output_type": "display_data"
    }
   ],
   "source": [
    "# plt.rcParams['figure.figsize'] = [5.5, 5]\n",
    "edge_value=pipe_damage_val\n",
    "c_color=plt.cm.rainbow\n",
    "G = nx.parse_edgelist(d, nodetype = int, data=(('id',int),))\n",
    "nx.draw(G,pos,node_size=5,edge_color =edge_value, node_color='k',width=1.5,with_labels=False,edge_cmap = c_color)\n",
    "sm = plt.cm.ScalarMappable(norm=plt.Normalize(edge_value.min(), edge_value.max()),cmap = c_color)\n",
    "\n",
    "red_patch = mpatches.Patch(color='red', label='Break')\n",
    "cyan_patch = mpatches.Patch(color='mediumspringgreen', label='Leak')\n",
    "blue_patch = mpatches.Patch(color='blueviolet', label='None')\n",
    "\n",
    "plt.legend(handles=[red_patch,cyan_patch, blue_patch],loc=10,fontsize=13,bbox_to_anchor=(0.8, 0.0, 0.1, 0.4))\n",
    "# plt.scatter(ex, ey, s=500, c='r', marker='*', zorder=1)\n",
    "plt.savefig('Demo_Damage_States.png', dpi = 600,bbox_inches='tight')"
   ]
  },
  {
   "cell_type": "markdown",
   "metadata": {},
   "source": [
    "### Betweenness Centrality"
   ]
  },
  {
   "cell_type": "code",
   "execution_count": 120,
   "metadata": {},
   "outputs": [],
   "source": [
    "bc_edge=list(nx.edge_betweenness_centrality(G).values())"
   ]
  },
  {
   "cell_type": "code",
   "execution_count": 121,
   "metadata": {},
   "outputs": [],
   "source": [
    "ebc=pd.Series(bc_edge)"
   ]
  },
  {
   "cell_type": "code",
   "execution_count": 122,
   "metadata": {},
   "outputs": [
    {
     "data": {
      "image/png": "[encoded data removed]",
      "text/plain": [
       "<Figure size 432x288 with 2 Axes>"
      ]
     },
     "metadata": {},
     "output_type": "display_data"
    }
   ],
   "source": [
    "edge_value=ebc\n",
    "c_color=plt.cm.OrRd\n",
    "G = nx.parse_edgelist(d, nodetype = int, data=(('id',int),))\n",
    "nx.draw(G,pos,node_size=5,edge_color =edge_value, node_color='k',width=1.5,with_labels=False,edge_cmap = c_color)\n",
    "sm = plt.cm.ScalarMappable(norm=plt.Normalize(edge_value.min(), edge_value.max()),cmap = c_color)\n",
    "plt.colorbar(sm,label='Betweenness Centrality',shrink=0.7)\n",
    "# plt.scatter(ex, ey, s=500, c='r', marker='*', zorder=2)\n",
    "plt.savefig('Demo_EBC.png', dpi = 600,bbox_inches='tight')"
   ]
  },
  {
   "cell_type": "code",
   "execution_count": 123,
   "metadata": {},
   "outputs": [],
   "source": [
    "bc_node=list(nx.betweenness_centrality(G).values())"
   ]
  },
  {
   "cell_type": "code",
   "execution_count": 124,
   "metadata": {},
   "outputs": [],
   "source": [
    "nbc=pd.Series(bc_node)"
   ]
  },
  {
   "cell_type": "code",
   "execution_count": 125,
   "metadata": {},
   "outputs": [
    {
     "data": {
      "image/png": "[encoded data removed]",
      "text/plain": [
       "<Figure size 432x288 with 2 Axes>"
      ]
     },
     "metadata": {},
     "output_type": "display_data"
    }
   ],
   "source": [
    "edge_value=nbc\n",
    "c_color=plt.cm.Reds\n",
    "G = nx.parse_edgelist(d, nodetype = int, data=(('id',int),))\n",
    "nx.draw(G,pos,node_size=20,edge_color ='k', node_color=edge_value,width=.5,with_labels=False,cmap = c_color)\n",
    "sm = plt.cm.ScalarMappable(norm=plt.Normalize(edge_value.min(), edge_value.max()),cmap = c_color)\n",
    "plt.colorbar(sm,label='Betweenness Centrality',shrink=0.7)\n",
    "# plt.scatter(ex, ey, s=500, c='r', marker='*', zorder=2)\n",
    "plt.savefig('Demo_NBC.png', dpi = 600,bbox_inches='tight')"
   ]
  },
  {
   "cell_type": "markdown",
   "metadata": {},
   "source": [
    "### Normalized EBC"
   ]
  },
  {
   "cell_type": "code",
   "execution_count": 126,
   "metadata": {},
   "outputs": [],
   "source": [
    "ebc=pd.Series(bc_edge)"
   ]
  },
  {
   "cell_type": "code",
   "execution_count": 127,
   "metadata": {},
   "outputs": [],
   "source": [
    "norm_ebc=(ebc-ebc.min())/(ebc.max()-ebc.min())"
   ]
  },
  {
   "cell_type": "code",
   "execution_count": 128,
   "metadata": {},
   "outputs": [
    {
     "data": {
      "image/png": "[encoded data removed]",
      "text/plain": [
       "<Figure size 432x288 with 2 Axes>"
      ]
     },
     "metadata": {},
     "output_type": "display_data"
    }
   ],
   "source": [
    "edge_value=norm_ebc\n",
    "c_color=plt.cm.OrRd\n",
    "G = nx.parse_edgelist(d, nodetype = int, data=(('id',int),))\n",
    "nx.draw(G,pos,node_size=5,edge_color =edge_value, node_color='k',width=1.5,with_labels=False,edge_cmap = c_color)\n",
    "sm = plt.cm.ScalarMappable(norm=plt.Normalize(edge_value.min(), edge_value.max()),cmap = c_color)\n",
    "plt.colorbar(sm,label='Normalized EBC',shrink=0.7)\n",
    "# plt.scatter(ex, ey, s=500, c='r', marker='*', zorder=2)\n",
    "plt.savefig('Demo_Norm_EBC.png', dpi = 600,bbox_inches='tight')"
   ]
  },
  {
   "cell_type": "markdown",
   "metadata": {},
   "source": [
    "### Condition Index"
   ]
  },
  {
   "cell_type": "code",
   "execution_count": 129,
   "metadata": {},
   "outputs": [],
   "source": [
    "pc_id = list(link.PipID)\n",
    "pc_age=list(0.0003*(2020-out.age)**2-0.0003*(2020-out.age)+1)\n",
    "pk = {'Id':pc_id,'CI':pc_age}\n",
    "pc_f=pd.DataFrame(pk)\n",
    "pc_f.set_index('Id',inplace=True)"
   ]
  },
  {
   "cell_type": "code",
   "execution_count": 131,
   "metadata": {},
   "outputs": [
    {
     "data": {
      "image/png": "[encoded data removed]",
      "text/plain": [
       "<Figure size 432x288 with 2 Axes>"
      ]
     },
     "metadata": {},
     "output_type": "display_data"
    }
   ],
   "source": [
    "edge_value=pc_f.CI\n",
    "c_color=plt.cm.jet\n",
    "G = nx.parse_edgelist(d, nodetype = int, data=(('id',int),))\n",
    "nx.draw(G,pos,node_size=5,edge_color =edge_value, node_color='k',width=1.5,with_labels=False,edge_cmap = c_color)\n",
    "sm = plt.cm.ScalarMappable(norm=plt.Normalize(edge_value.min(), edge_value.max()),cmap = c_color)\n",
    "plt.colorbar(sm,label='Condition Index',shrink=0.7)\n",
    "# plt.scatter(ex, ey, s=500, c='r', marker='*', zorder=2)\n",
    "plt.savefig('Demo_CI.png', dpi = 600,bbox_inches='tight')"
   ]
  },
  {
   "cell_type": "markdown",
   "metadata": {},
   "source": [
    "### Normalized Condition Index"
   ]
  },
  {
   "cell_type": "code",
   "execution_count": 134,
   "metadata": {},
   "outputs": [
    {
     "data": {
      "image/png": "[encoded data removed]",
      "text/plain": [
       "<Figure size 432x288 with 2 Axes>"
      ]
     },
     "metadata": {},
     "output_type": "display_data"
    }
   ],
   "source": [
    "norm_CI=(pc_f.CI-pc_f.CI.min())/(pc_f.CI.max()-pc_f.CI.min())\n",
    "edge_value=norm_CI\n",
    "c_color=plt.cm.jet\n",
    "G = nx.parse_edgelist(d, nodetype = int, data=(('id',int),))\n",
    "nx.draw(G,pos,node_size=5,edge_color =edge_value, node_color='k',width=1.5,with_labels=False,edge_cmap = c_color)\n",
    "sm = plt.cm.ScalarMappable(norm=plt.Normalize(edge_value.min(), edge_value.max()),cmap = c_color)\n",
    "plt.colorbar(sm,label='Normalized Condition Index',shrink=0.7)\n",
    "# plt.scatter(ex, ey, s=500, c='r', marker='*', zorder=2)\n",
    "plt.savefig('Demo_Norm_CI.png', dpi = 600,bbox_inches='tight')"
   ]
  },
  {
   "cell_type": "markdown",
   "metadata": {},
   "source": [
    "### Maintenance Action"
   ]
  },
  {
   "cell_type": "code",
   "execution_count": 135,
   "metadata": {},
   "outputs": [],
   "source": [
    "pc_id = list(link.PipID)"
   ]
  },
  {
   "cell_type": "code",
   "execution_count": 136,
   "metadata": {},
   "outputs": [],
   "source": [
    "pc_id = list(link.PipID)\n",
    "CI=list(norm_CI)\n",
    "nbc=list(norm_ebc)\n",
    "pk = {'Id':pc_id,'CI':CI,'nbc':norm_ebc}\n",
    "cost=pd.DataFrame(pk)\n",
    "cost.set_index('Id',inplace=True)"
   ]
  },
  {
   "cell_type": "code",
   "execution_count": 138,
   "metadata": {},
   "outputs": [],
   "source": [
    "Index=cost.CI*0.7+cost.nbc*0.3"
   ]
  },
  {
   "cell_type": "code",
   "execution_count": 139,
   "metadata": {},
   "outputs": [],
   "source": [
    "Index=cost.CI*0.7+cost.nbc*0.3\n",
    "pc_id = list(link.PipID)\n",
    "ind=list(Index)\n",
    "dl=list(pipe_damage_val)\n",
    "pk = {'Id':pc_id,'ind':ind,'dl':dl}\n",
    "need=pd.DataFrame(pk)\n",
    "need.set_index('Id',inplace=True)"
   ]
  },
  {
   "cell_type": "code",
   "execution_count": 141,
   "metadata": {},
   "outputs": [],
   "source": [
    "mmm=need[(need.ind>0.5)&(need.dl>0)]"
   ]
  },
  {
   "cell_type": "code",
   "execution_count": 142,
   "metadata": {},
   "outputs": [],
   "source": [
    "link['link_m']=list(Length(node,link))"
   ]
  },
  {
   "cell_type": "code",
   "execution_count": 144,
   "metadata": {},
   "outputs": [],
   "source": [
    "# data1 and data2 should be node and link, respectively\n",
    "def C_Check(data):  \n",
    "    maint=[]\n",
    "    for index,row in data.iterrows():\n",
    "        if (row['ind']>=0.5) & (row['dl']>0):\n",
    "            mm=2\n",
    "        elif (row['ind']<0.5) & (row['dl']>0):\n",
    "            mm=1\n",
    "        else:\n",
    "            mm=0\n",
    "        maint.append(mm)\n",
    "    maint=np.array(maint)\n",
    "    return maint"
   ]
  },
  {
   "cell_type": "code",
   "execution_count": 145,
   "metadata": {},
   "outputs": [],
   "source": [
    "need['MA']=list(C_Check(need))"
   ]
  },
  {
   "cell_type": "code",
   "execution_count": 146,
   "metadata": {},
   "outputs": [
    {
     "data": {
      "text/plain": [
       "0    13\n",
       "Name: MA, dtype: int64"
      ]
     },
     "execution_count": 146,
     "metadata": {},
     "output_type": "execute_result"
    }
   ],
   "source": [
    "need.MA.value_counts()"
   ]
  },
  {
   "cell_type": "code",
   "execution_count": 148,
   "metadata": {},
   "outputs": [
    {
     "data": {
      "image/png": "[encoded data removed]",
      "text/plain": [
       "<Figure size 396x360 with 1 Axes>"
      ]
     },
     "metadata": {},
     "output_type": "display_data"
    }
   ],
   "source": [
    "plt.rcParams['figure.figsize'] = [5.5, 5]\n",
    "edge_value=need.MA\n",
    "c_color=plt.cm.jet\n",
    "G = nx.parse_edgelist(d, nodetype = int, data=(('id',int),))\n",
    "nx.draw(G,pos,node_size=5,edge_color =edge_value, node_color='k',width=1.5,with_labels=False,edge_cmap = c_color)\n",
    "sm = plt.cm.ScalarMappable(norm=plt.Normalize(edge_value.min(), edge_value.max()),cmap = c_color)\n",
    "red_patch = mpatches.Patch(color='firebrick', label='Replace')\n",
    "cyan_patch = mpatches.Patch(color='mediumspringgreen', label='Repair')\n",
    "blue_patch = mpatches.Patch(color='navy', label='None')\n",
    "\n",
    "plt.legend(handles=[red_patch,cyan_patch, blue_patch],loc=10,fontsize=13,bbox_to_anchor=(0.8, 0.0, 0.1, 0.4))\n",
    "# plt.scatter(ex, ey, s=500, c='r', marker='*', zorder=2)\n",
    "plt.savefig('Demo_MA.png', dpi = 600,bbox_inches='tight')"
   ]
  },
  {
   "cell_type": "code",
   "execution_count": 149,
   "metadata": {},
   "outputs": [],
   "source": [
    "need[need.MA>=1].to_csv('pipe_repair.csv')"
   ]
  },
  {
   "cell_type": "markdown",
   "metadata": {},
   "source": [
    "### Repair Cost Estimation"
   ]
  },
  {
   "cell_type": "code",
   "execution_count": 150,
   "metadata": {},
   "outputs": [],
   "source": [
    "nw=need.merge(out, left_on='Id', right_on='el_x')"
   ]
  },
  {
   "cell_type": "code",
   "execution_count": 151,
   "metadata": {},
   "outputs": [],
   "source": [
    "nw['NoB']=(0.00187*nw.link_pgv*39.3701*nw.C)*(nw.link_m*3.28084/1000)"
   ]
  },
  {
   "cell_type": "code",
   "execution_count": 152,
   "metadata": {},
   "outputs": [],
   "source": [
    "nw.NoB;\n",
    "nw['nNoB']=np.ceil(nw.NoB).astype(int)"
   ]
  },
  {
   "cell_type": "code",
   "execution_count": 154,
   "metadata": {},
   "outputs": [],
   "source": [
    "xxx,yyy=pipe_annual_cost(nw)"
   ]
  },
  {
   "cell_type": "code",
   "execution_count": 155,
   "metadata": {},
   "outputs": [],
   "source": [
    "nw['repair_C']=xxx\n",
    "nw['replace_C']=yyy"
   ]
  },
  {
   "cell_type": "code",
   "execution_count": 156,
   "metadata": {},
   "outputs": [],
   "source": [
    "def C_Est(data):  \n",
    "    cost=[]\n",
    "    for index,row in data.iterrows():\n",
    "        if (row['MA']==1):\n",
    "            mm=row['repair_C']*row['nNoB']\n",
    "        elif (row['MA']==2):\n",
    "            mm=row['replace_C']\n",
    "        else:\n",
    "            mm=0\n",
    "        cost.append(mm)\n",
    "    cost=np.array(cost)\n",
    "    return cost"
   ]
  },
  {
   "cell_type": "code",
   "execution_count": 157,
   "metadata": {},
   "outputs": [],
   "source": [
    "nw['T_Cost']=list(C_Est(nw))"
   ]
  },
  {
   "cell_type": "code",
   "execution_count": 158,
   "metadata": {},
   "outputs": [
    {
     "name": "stdout",
     "output_type": "stream",
     "text": [
      "0\n"
     ]
    }
   ],
   "source": [
    "Cost_for_repair=print(nw[nw.MA==1].T_Cost.sum())"
   ]
  },
  {
   "cell_type": "code",
   "execution_count": 159,
   "metadata": {},
   "outputs": [
    {
     "name": "stdout",
     "output_type": "stream",
     "text": [
      "0\n"
     ]
    }
   ],
   "source": [
    "Cost_for_replace=print(nw[nw.MA==2].T_Cost.sum())"
   ]
  },
  {
   "cell_type": "code",
   "execution_count": 160,
   "metadata": {},
   "outputs": [
    {
     "name": "stdout",
     "output_type": "stream",
     "text": [
      "0\n"
     ]
    }
   ],
   "source": [
    "total_maintenace_cost=print(nw.T_Cost.sum())"
   ]
  },
  {
   "cell_type": "code",
   "execution_count": 161,
   "metadata": {},
   "outputs": [
    {
     "data": {
      "text/html": [
       "<div>\n",
       "<style scoped>\n",
       "    .dataframe tbody tr th:only-of-type {\n",
       "        vertical-align: middle;\n",
       "    }\n",
       "\n",
       "    .dataframe tbody tr th {\n",
       "        vertical-align: top;\n",
       "    }\n",
       "\n",
       "    .dataframe thead th {\n",
       "        text-align: right;\n",
       "    }\n",
       "</style>\n",
       "<table border=\"1\" class=\"dataframe\">\n",
       "  <thead>\n",
       "    <tr style=\"text-align: right;\">\n",
       "      <th></th>\n",
       "      <th>ind</th>\n",
       "      <th>dl</th>\n",
       "      <th>MA</th>\n",
       "      <th>el_x</th>\n",
       "      <th>start_node</th>\n",
       "      <th>end_node</th>\n",
       "      <th>type</th>\n",
       "      <th>PipID</th>\n",
       "      <th>Length</th>\n",
       "      <th>dia</th>\n",
       "      <th>...</th>\n",
       "      <th>link_pga</th>\n",
       "      <th>link_pgv</th>\n",
       "      <th>el</th>\n",
       "      <th>Id_y</th>\n",
       "      <th>C</th>\n",
       "      <th>NoB</th>\n",
       "      <th>nNoB</th>\n",
       "      <th>repair_C</th>\n",
       "      <th>replace_C</th>\n",
       "      <th>T_Cost</th>\n",
       "    </tr>\n",
       "  </thead>\n",
       "  <tbody>\n",
       "    <tr>\n",
       "      <th>0</th>\n",
       "      <td>NaN</td>\n",
       "      <td>1</td>\n",
       "      <td>0</td>\n",
       "      <td>119</td>\n",
       "      <td>10</td>\n",
       "      <td>11</td>\n",
       "      <td>1</td>\n",
       "      <td>119</td>\n",
       "      <td>570</td>\n",
       "      <td>24</td>\n",
       "      <td>...</td>\n",
       "      <td>0.438575</td>\n",
       "      <td>1.782180</td>\n",
       "      <td>119</td>\n",
       "      <td>119</td>\n",
       "      <td>2.50</td>\n",
       "      <td>3.848171</td>\n",
       "      <td>4</td>\n",
       "      <td>2300</td>\n",
       "      <td>1.233641e+07</td>\n",
       "      <td>0</td>\n",
       "    </tr>\n",
       "    <tr>\n",
       "      <th>1</th>\n",
       "      <td>NaN</td>\n",
       "      <td>2</td>\n",
       "      <td>0</td>\n",
       "      <td>121</td>\n",
       "      <td>11</td>\n",
       "      <td>12</td>\n",
       "      <td>1</td>\n",
       "      <td>121</td>\n",
       "      <td>240</td>\n",
       "      <td>16</td>\n",
       "      <td>...</td>\n",
       "      <td>0.393325</td>\n",
       "      <td>1.347938</td>\n",
       "      <td>121</td>\n",
       "      <td>121</td>\n",
       "      <td>1.75</td>\n",
       "      <td>1.255697</td>\n",
       "      <td>2</td>\n",
       "      <td>1300</td>\n",
       "      <td>4.297525e+06</td>\n",
       "      <td>0</td>\n",
       "    </tr>\n",
       "    <tr>\n",
       "      <th>2</th>\n",
       "      <td>NaN</td>\n",
       "      <td>2</td>\n",
       "      <td>0</td>\n",
       "      <td>122</td>\n",
       "      <td>12</td>\n",
       "      <td>13</td>\n",
       "      <td>1</td>\n",
       "      <td>122</td>\n",
       "      <td>440</td>\n",
       "      <td>24</td>\n",
       "      <td>...</td>\n",
       "      <td>0.364288</td>\n",
       "      <td>1.123664</td>\n",
       "      <td>122</td>\n",
       "      <td>122</td>\n",
       "      <td>1.75</td>\n",
       "      <td>1.092538</td>\n",
       "      <td>2</td>\n",
       "      <td>2300</td>\n",
       "      <td>7.935748e+06</td>\n",
       "      <td>0</td>\n",
       "    </tr>\n",
       "    <tr>\n",
       "      <th>3</th>\n",
       "      <td>NaN</td>\n",
       "      <td>2</td>\n",
       "      <td>0</td>\n",
       "      <td>123</td>\n",
       "      <td>21</td>\n",
       "      <td>22</td>\n",
       "      <td>1</td>\n",
       "      <td>123</td>\n",
       "      <td>220</td>\n",
       "      <td>16</td>\n",
       "      <td>...</td>\n",
       "      <td>0.286741</td>\n",
       "      <td>0.659291</td>\n",
       "      <td>123</td>\n",
       "      <td>123</td>\n",
       "      <td>1.75</td>\n",
       "      <td>0.614175</td>\n",
       "      <td>1</td>\n",
       "      <td>1300</td>\n",
       "      <td>4.297525e+06</td>\n",
       "      <td>0</td>\n",
       "    </tr>\n",
       "    <tr>\n",
       "      <th>4</th>\n",
       "      <td>NaN</td>\n",
       "      <td>1</td>\n",
       "      <td>0</td>\n",
       "      <td>124</td>\n",
       "      <td>22</td>\n",
       "      <td>23</td>\n",
       "      <td>1</td>\n",
       "      <td>124</td>\n",
       "      <td>300</td>\n",
       "      <td>24</td>\n",
       "      <td>...</td>\n",
       "      <td>0.280278</td>\n",
       "      <td>0.628391</td>\n",
       "      <td>124</td>\n",
       "      <td>124</td>\n",
       "      <td>1.75</td>\n",
       "      <td>0.610985</td>\n",
       "      <td>1</td>\n",
       "      <td>2300</td>\n",
       "      <td>7.935748e+06</td>\n",
       "      <td>0</td>\n",
       "    </tr>\n",
       "  </tbody>\n",
       "</table>\n",
       "<p>5 rows × 27 columns</p>\n",
       "</div>"
      ],
      "text/plain": [
       "   ind  dl  MA  el_x  start_node  end_node  type  PipID  Length  dia  ...  \\\n",
       "0  NaN   1   0   119          10        11     1    119     570   24  ...   \n",
       "1  NaN   2   0   121          11        12     1    121     240   16  ...   \n",
       "2  NaN   2   0   122          12        13     1    122     440   24  ...   \n",
       "3  NaN   2   0   123          21        22     1    123     220   16  ...   \n",
       "4  NaN   1   0   124          22        23     1    124     300   24  ...   \n",
       "\n",
       "   link_pga  link_pgv   el  Id_y     C       NoB  nNoB  repair_C  \\\n",
       "0  0.438575  1.782180  119   119  2.50  3.848171     4      2300   \n",
       "1  0.393325  1.347938  121   121  1.75  1.255697     2      1300   \n",
       "2  0.364288  1.123664  122   122  1.75  1.092538     2      2300   \n",
       "3  0.286741  0.659291  123   123  1.75  0.614175     1      1300   \n",
       "4  0.280278  0.628391  124   124  1.75  0.610985     1      2300   \n",
       "\n",
       "      replace_C  T_Cost  \n",
       "0  1.233641e+07       0  \n",
       "1  4.297525e+06       0  \n",
       "2  7.935748e+06       0  \n",
       "3  4.297525e+06       0  \n",
       "4  7.935748e+06       0  \n",
       "\n",
       "[5 rows x 27 columns]"
      ]
     },
     "execution_count": 161,
     "metadata": {},
     "output_type": "execute_result"
    }
   ],
   "source": [
    "nw.head()"
   ]
  },
  {
   "cell_type": "markdown",
   "metadata": {},
   "source": [
    "#### Repairable Length"
   ]
  },
  {
   "cell_type": "code",
   "execution_count": 162,
   "metadata": {},
   "outputs": [
    {
     "data": {
      "text/plain": [
       "0.0"
      ]
     },
     "execution_count": 162,
     "metadata": {},
     "output_type": "execute_result"
    }
   ],
   "source": [
    "nw[nw.MA>0].link_m.sum()/1000"
   ]
  },
  {
   "cell_type": "code",
   "execution_count": 163,
   "metadata": {},
   "outputs": [
    {
     "data": {
      "text/plain": [
       "0.0"
      ]
     },
     "execution_count": 163,
     "metadata": {},
     "output_type": "execute_result"
    }
   ],
   "source": [
    "nw[nw.MA>1].link_m.sum()/1000"
   ]
  },
  {
   "cell_type": "code",
   "execution_count": 164,
   "metadata": {},
   "outputs": [],
   "source": [
    "#Per_Cost_graph"
   ]
  },
  {
   "cell_type": "code",
   "execution_count": 165,
   "metadata": {},
   "outputs": [],
   "source": [
    "# diameter = [4, 6, 8, 10, 12, 14, 16, 18, 20, 24, 28, 30, 32, 34] # inch\n",
    "# rpr = [95, 120, 140, 165, 195, 220, 255, 385, 455, 525, 563, 600, 638, 638] # repair cost\n",
    "# rpl = [1575, 1800, 2270, 2700, 2800, 3000, 4225, 4325, 4450, 4450, 4450, 4450, 4450, 4450] # replace cost\n",
    "# repair_cost = pd.Series(rpr,diameter)        \n",
    "# replace_cost = pd.Series(rpl,diameter)        \n",
    "\n",
    "# xp=replace_cost.index\n",
    "# yp1=replace_cost.values\n",
    "# yp2=repair_cost.values\n",
    "# plt.plot(xp,yp1)\n",
    "# plt.plot(xp,yp2)\n",
    "# plt.xlabel('Diameter(in)',size=16)\n",
    "# plt.ylabel('Cost $',size=16)\n",
    "# plt.rc('font',family='Times New Roman')\n",
    "# plt.savefig('Cost_Graph.png', dpi = 600,bbox_inches='tight')"
   ]
  },
  {
   "cell_type": "code",
   "execution_count": 166,
   "metadata": {},
   "outputs": [],
   "source": [
    "Costt=nw.T_Cost"
   ]
  },
  {
   "cell_type": "code",
   "execution_count": 167,
   "metadata": {},
   "outputs": [
    {
     "data": {
      "text/plain": [
       "<matplotlib.colorbar.Colorbar at 0x1c28e713c8>"
      ]
     },
     "execution_count": 167,
     "metadata": {},
     "output_type": "execute_result"
    },
    {
     "data": {
      "image/png": "[encoded data removed]",
      "text/plain": [
       "<Figure size 396x360 with 2 Axes>"
      ]
     },
     "metadata": {},
     "output_type": "display_data"
    }
   ],
   "source": [
    "edge_value=Costt\n",
    "c_color=plt.cm.rainbow\n",
    "G = nx.parse_edgelist(d, nodetype = int, data=(('id',int),))\n",
    "nx.draw(G,pos,node_size=0.5,edge_color =edge_value, node_color='k',width=2,with_labels=False,edge_cmap = c_color)\n",
    "sm = plt.cm.ScalarMappable(norm=plt.Normalize(edge_value.min(), edge_value.max()),cmap = c_color)\n",
    "plt.colorbar(sm,label='$USD',shrink=.7)\n",
    "# plt.scatter(ex, ey, s=500, c='r', marker='*', zorder=2)"
   ]
  },
  {
   "cell_type": "code",
   "execution_count": 168,
   "metadata": {},
   "outputs": [],
   "source": [
    "# nx.shortest_path(G, 1721);"
   ]
  },
  {
   "cell_type": "code",
   "execution_count": 169,
   "metadata": {},
   "outputs": [],
   "source": [
    "# pd.Series(nx.single_source_shortest_path(G,1721));"
   ]
  },
  {
   "cell_type": "markdown",
   "metadata": {},
   "source": [
    "### Isolated Graph after removing damaged components"
   ]
  },
  {
   "cell_type": "code",
   "execution_count": 170,
   "metadata": {},
   "outputs": [],
   "source": [
    "n_link=nw[nw.MA==0]"
   ]
  },
  {
   "cell_type": "code",
   "execution_count": 171,
   "metadata": {},
   "outputs": [],
   "source": [
    "pp = []\n",
    "for index, row in n_link.iterrows():\n",
    "    stt = str(row['start_node'])+str(row['end_node']).rjust(10)\n",
    "    pp.append(stt)"
   ]
  },
  {
   "cell_type": "code",
   "execution_count": 172,
   "metadata": {},
   "outputs": [
    {
     "data": {
      "image/png": "[encoded data removed]",
      "text/plain": [
       "<Figure size 396x360 with 1 Axes>"
      ]
     },
     "metadata": {},
     "output_type": "display_data"
    }
   ],
   "source": [
    "# draw Graph of water network\n",
    "G = nx.parse_edgelist(pp,nodetype=int)\n",
    "nx.draw(G,pos,node_size=5, node_color='k', edge_color='b',width=1.5)\n",
    "nx.draw(G3,pos3,node_size=60,node_color='g',with_labels=False)\n",
    "plt.savefig('Demo_Isolated.png', dpi = 600,bbox_inches='tight')"
   ]
  },
  {
   "cell_type": "code",
   "execution_count": 173,
   "metadata": {},
   "outputs": [
    {
     "data": {
      "text/plain": [
       "0"
      ]
     },
     "execution_count": 173,
     "metadata": {},
     "output_type": "execute_result"
    }
   ],
   "source": [
    "nx.number_of_isolates(G)"
   ]
  },
  {
   "cell_type": "markdown",
   "metadata": {},
   "source": [
    "### Plot Networks"
   ]
  },
  {
   "cell_type": "code",
   "execution_count": 174,
   "metadata": {},
   "outputs": [],
   "source": [
    "# read node and link positions\n",
    "node = pd.read_csv('node_demo.csv')\n",
    "# link = pd.read_csv('edge classify.csv')\n",
    "link = pd.read_csv('pipe_demo.csv')"
   ]
  },
  {
   "cell_type": "code",
   "execution_count": 175,
   "metadata": {},
   "outputs": [],
   "source": [
    "import os\n",
    "import folium\n",
    "from folium.plugins.measure_control import MeasureControl"
   ]
  },
  {
   "cell_type": "code",
   "execution_count": 176,
   "metadata": {},
   "outputs": [
    {
     "data": {
      "text/html": [
       "<div>\n",
       "<style scoped>\n",
       "    .dataframe tbody tr th:only-of-type {\n",
       "        vertical-align: middle;\n",
       "    }\n",
       "\n",
       "    .dataframe tbody tr th {\n",
       "        vertical-align: top;\n",
       "    }\n",
       "\n",
       "    .dataframe thead th {\n",
       "        text-align: right;\n",
       "    }\n",
       "</style>\n",
       "<table border=\"1\" class=\"dataframe\">\n",
       "  <thead>\n",
       "    <tr style=\"text-align: right;\">\n",
       "      <th></th>\n",
       "      <th>start_node</th>\n",
       "      <th>end_node</th>\n",
       "      <th>type</th>\n",
       "      <th>PipID</th>\n",
       "      <th>Length</th>\n",
       "      <th>dia</th>\n",
       "      <th>M_type</th>\n",
       "      <th>Material</th>\n",
       "      <th>soil_type</th>\n",
       "      <th>age</th>\n",
       "    </tr>\n",
       "  </thead>\n",
       "  <tbody>\n",
       "    <tr>\n",
       "      <th>0</th>\n",
       "      <td>10</td>\n",
       "      <td>11</td>\n",
       "      <td>1</td>\n",
       "      <td>119</td>\n",
       "      <td>570</td>\n",
       "      <td>24</td>\n",
       "      <td>CI</td>\n",
       "      <td>CIP</td>\n",
       "      <td>H</td>\n",
       "      <td>1930</td>\n",
       "    </tr>\n",
       "  </tbody>\n",
       "</table>\n",
       "</div>"
      ],
      "text/plain": [
       "   start_node  end_node  type  PipID  Length  dia M_type Material soil_type  \\\n",
       "0          10        11     1    119     570   24     CI      CIP         H   \n",
       "\n",
       "    age  \n",
       "0  1930  "
      ]
     },
     "execution_count": 176,
     "metadata": {},
     "output_type": "execute_result"
    }
   ],
   "source": [
    "link.head(1)"
   ]
  },
  {
   "cell_type": "code",
   "execution_count": 177,
   "metadata": {},
   "outputs": [],
   "source": [
    "# data1 and data2 should be node and link, respectively\n",
    "def Coord(data1,data2):  \n",
    "    pos={}\n",
    "    ll=[]\n",
    "    for index, row in data2.iterrows():\n",
    "        sp=data1[data1.id==row['start_node']]\n",
    "        start_x, start_y = (list(sp.x),list(sp.y))\n",
    "        ep=data1[data1.id==row['end_node']]\n",
    "        end_x,end_y=(list(ep.x),list(ep.y))\n",
    "        pos[int(row['PipID'])]=start_y+start_x,end_y+end_x\n",
    "        ll=data2['Length']\n",
    "    return pos, ll"
   ]
  },
  {
   "cell_type": "code",
   "execution_count": 178,
   "metadata": {},
   "outputs": [],
   "source": [
    "posL,ll=Coord(node,link)"
   ]
  },
  {
   "cell_type": "code",
   "execution_count": 179,
   "metadata": {},
   "outputs": [],
   "source": [
    "coordinatesL=posL.values()"
   ]
  },
  {
   "cell_type": "code",
   "execution_count": 180,
   "metadata": {},
   "outputs": [],
   "source": [
    "coL=list(coordinatesL)"
   ]
  },
  {
   "cell_type": "code",
   "execution_count": 181,
   "metadata": {},
   "outputs": [],
   "source": [
    "# Create the map and add the line\n",
    "m = folium.Map(location=[38.28409957,-122.0654925], zoom_start=14)\n",
    "# folium.TileLayer('cartodbpositron').add_to(m)\n",
    "\n",
    "# linear = cm.LinearColormap(\n",
    "#     ['green', 'yellow', 'red'],\n",
    "#     vmin=3, vmax=10)\n",
    "\n",
    "# o=folium\n",
    "folium.PolyLine(coL, color='blue',weight=2, opacity=0.7).add_to(m)\n",
    "# folium.LayerControl().add_to(m)\n",
    "\n",
    "m;"
   ]
  },
  {
   "cell_type": "code",
   "execution_count": 182,
   "metadata": {},
   "outputs": [],
   "source": [
    "bc_node=nx.betweenness_centrality(G)\n",
    "bc_node;"
   ]
  },
  {
   "cell_type": "code",
   "execution_count": 183,
   "metadata": {},
   "outputs": [],
   "source": [
    "bc_edge=nx.edge_betweenness_centrality(G)\n",
    "bc_edge;"
   ]
  },
  {
   "cell_type": "code",
   "execution_count": 184,
   "metadata": {},
   "outputs": [],
   "source": [
    "r, pga, pgv, pos = Distance.com_pga_dist(node,ex,ey,M)"
   ]
  },
  {
   "cell_type": "code",
   "execution_count": 185,
   "metadata": {},
   "outputs": [],
   "source": [
    "link_attribute=bc_edge\n",
    "link_width=2\n",
    "link_range=[0,1]\n",
    "link_cmap_bins='cut'\n",
    "link_cmap=['cornflowerblue', 'forestgreen', 'gold', 'firebrick']"
   ]
  },
  {
   "cell_type": "code",
   "execution_count": 186,
   "metadata": {},
   "outputs": [
    {
     "data": {
      "text/html": [
       "<div>\n",
       "<style scoped>\n",
       "    .dataframe tbody tr th:only-of-type {\n",
       "        vertical-align: middle;\n",
       "    }\n",
       "\n",
       "    .dataframe tbody tr th {\n",
       "        vertical-align: top;\n",
       "    }\n",
       "\n",
       "    .dataframe thead th {\n",
       "        text-align: right;\n",
       "    }\n",
       "</style>\n",
       "<table border=\"1\" class=\"dataframe\">\n",
       "  <thead>\n",
       "    <tr style=\"text-align: right;\">\n",
       "      <th></th>\n",
       "      <th>start_node</th>\n",
       "      <th>end_node</th>\n",
       "      <th>type</th>\n",
       "      <th>PipID</th>\n",
       "      <th>Length</th>\n",
       "      <th>dia</th>\n",
       "      <th>M_type</th>\n",
       "      <th>Material</th>\n",
       "      <th>soil_type</th>\n",
       "      <th>age</th>\n",
       "    </tr>\n",
       "  </thead>\n",
       "  <tbody>\n",
       "    <tr>\n",
       "      <th>0</th>\n",
       "      <td>10</td>\n",
       "      <td>11</td>\n",
       "      <td>1</td>\n",
       "      <td>119</td>\n",
       "      <td>570</td>\n",
       "      <td>24</td>\n",
       "      <td>CI</td>\n",
       "      <td>CIP</td>\n",
       "      <td>H</td>\n",
       "      <td>1930</td>\n",
       "    </tr>\n",
       "  </tbody>\n",
       "</table>\n",
       "</div>"
      ],
      "text/plain": [
       "   start_node  end_node  type  PipID  Length  dia M_type Material soil_type  \\\n",
       "0          10        11     1    119     570   24     CI      CIP         H   \n",
       "\n",
       "    age  \n",
       "0  1930  "
      ]
     },
     "execution_count": 186,
     "metadata": {},
     "output_type": "execute_result"
    }
   ],
   "source": [
    "link.head(1)"
   ]
  },
  {
   "cell_type": "code",
   "execution_count": 187,
   "metadata": {},
   "outputs": [
    {
     "data": {
      "text/html": [
       "<div>\n",
       "<style scoped>\n",
       "    .dataframe tbody tr th:only-of-type {\n",
       "        vertical-align: middle;\n",
       "    }\n",
       "\n",
       "    .dataframe tbody tr th {\n",
       "        vertical-align: top;\n",
       "    }\n",
       "\n",
       "    .dataframe thead th {\n",
       "        text-align: right;\n",
       "    }\n",
       "</style>\n",
       "<table border=\"1\" class=\"dataframe\">\n",
       "  <thead>\n",
       "    <tr style=\"text-align: right;\">\n",
       "      <th></th>\n",
       "      <th>id</th>\n",
       "      <th>x</th>\n",
       "      <th>y</th>\n",
       "      <th>type</th>\n",
       "    </tr>\n",
       "  </thead>\n",
       "  <tbody>\n",
       "    <tr>\n",
       "      <th>0</th>\n",
       "      <td>10</td>\n",
       "      <td>-122.078409</td>\n",
       "      <td>38.278968</td>\n",
       "      <td>1</td>\n",
       "    </tr>\n",
       "    <tr>\n",
       "      <th>1</th>\n",
       "      <td>11</td>\n",
       "      <td>-122.046287</td>\n",
       "      <td>38.278968</td>\n",
       "      <td>1</td>\n",
       "    </tr>\n",
       "    <tr>\n",
       "      <th>2</th>\n",
       "      <td>12</td>\n",
       "      <td>-122.026489</td>\n",
       "      <td>38.278968</td>\n",
       "      <td>1</td>\n",
       "    </tr>\n",
       "    <tr>\n",
       "      <th>3</th>\n",
       "      <td>13</td>\n",
       "      <td>-122.005826</td>\n",
       "      <td>38.278968</td>\n",
       "      <td>1</td>\n",
       "    </tr>\n",
       "    <tr>\n",
       "      <th>4</th>\n",
       "      <td>21</td>\n",
       "      <td>-122.046287</td>\n",
       "      <td>38.178968</td>\n",
       "      <td>1</td>\n",
       "    </tr>\n",
       "  </tbody>\n",
       "</table>\n",
       "</div>"
      ],
      "text/plain": [
       "   id           x          y  type\n",
       "0  10 -122.078409  38.278968     1\n",
       "1  11 -122.046287  38.278968     1\n",
       "2  12 -122.026489  38.278968     1\n",
       "3  13 -122.005826  38.278968     1\n",
       "4  21 -122.046287  38.178968     1"
      ]
     },
     "execution_count": 187,
     "metadata": {},
     "output_type": "execute_result"
    }
   ],
   "source": [
    "node.head()"
   ]
  },
  {
   "cell_type": "code",
   "execution_count": 188,
   "metadata": {},
   "outputs": [],
   "source": [
    "def Loc(data):  \n",
    "    pos={}\n",
    "    for index, row in data.iterrows():\n",
    "        loc = (row['y'], row['x'])\n",
    "        pos[int(row['id'])]=loc\n",
    "\n",
    "    return pos"
   ]
  },
  {
   "cell_type": "code",
   "execution_count": 189,
   "metadata": {},
   "outputs": [],
   "source": [
    "posN=Loc(node)"
   ]
  },
  {
   "cell_type": "code",
   "execution_count": 190,
   "metadata": {},
   "outputs": [],
   "source": [
    "# coordinates=pos.values()\n",
    "# co=list(coordinates)\n",
    "# list(coordinates);"
   ]
  },
  {
   "cell_type": "code",
   "execution_count": 191,
   "metadata": {},
   "outputs": [],
   "source": [
    "link_v=need.MA\n",
    "node_v=n_out.node_pga"
   ]
  },
  {
   "cell_type": "code",
   "execution_count": 193,
   "metadata": {},
   "outputs": [],
   "source": [
    "plot_leaflet_network(G,node_attribute=node_v,link_attribute=link_v,link_width=2,filename='N_P.html')"
   ]
  },
  {
   "cell_type": "code",
   "execution_count": 194,
   "metadata": {},
   "outputs": [],
   "source": [
    "# Stamen Terrain\n",
    "# Stamen Toner"
   ]
  },
  {
   "cell_type": "code",
   "execution_count": 195,
   "metadata": {},
   "outputs": [],
   "source": [
    "link_v=P_leak\n",
    "node_v=n_out.node_pga"
   ]
  },
  {
   "cell_type": "code",
   "execution_count": 196,
   "metadata": {},
   "outputs": [],
   "source": [
    "node_size=2\n",
    "node_attribute=node_v\n",
    "link_attribute=link_v\n",
    "node_range=[None,None]\n",
    "node_cmap_bins = 'cut'\n",
    "link_cmap_bins='cut'\n",
    "node_cmap=['cornflowerblue', 'forestgreen', 'gold', 'firebrick'] \n",
    "link_cmap=['cornflowerblue', 'forestgreen', 'gold', 'firebrick']"
   ]
  },
  {
   "cell_type": "code",
   "execution_count": null,
   "metadata": {},
   "outputs": [],
   "source": []
  }
 ],
 "metadata": {
  "kernelspec": {
   "display_name": "Python 3",
   "language": "python",
   "name": "python3"
  },
  "language_info": {
   "codemirror_mode": {
    "name": "ipython",
    "version": 3
   },
   "file_extension": ".py",
   "mimetype": "text/x-python",
   "name": "python",
   "nbconvert_exporter": "python",
   "pygments_lexer": "ipython3",
   "version": "3.7.3"
  }
 },
 "nbformat": 4,
 "nbformat_minor": 2
}
