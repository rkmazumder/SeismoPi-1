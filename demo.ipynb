import numpy as np
import pandas as pd
from scipy.spatial import distance
import matplotlib.pyplot as plt
import matplotlib.patches as mpatches
import networkx as nx
import sp
#sp is stands for seisomopi

from sp.dist import Distance
from scipy.stats import expon, lognorm
from sp.plot import plot_fragility_curve

import fiona
import ipyleaflet
from ipyleaflet import Marker
from ipyleaflet import Map

from pyproj import Proj
from pyproj import Proj, transform


# read node and link positions
node = pd.read_csv('node.csv')
# link = pd.read_csv('edge classify.csv')
link = pd.read_csv('pipe.csv')

# define earthquake
#Transform from Arc1950 to WGS84
inProj = Proj(init='epsg:4326')
outProj = Proj(init='epsg:3395')
x1,y1 = (-122.0784086,38.2789683)
ex,ey = transform(inProj,outProj,x1,y1)
ex,ey

# Define expicenter coordinates (check with above command)
ex=-13589706.28220519; #this is longitude of the epicenter
ey=4592436.47339457; #this is latitude of the epicenter
M=7 # Magnitude

# transform coordinates
# trasforming latlong into mercetor coordinates
def tran(data):    
    utmxy = {}
    rx=[]
    ry=[]
    for index, row in data.iterrows():
        x = row['x']
        y = row['y']
        inProj = Proj(init='epsg:4326')
        outProj = Proj(init='epsg:3395')
        cz = transform(inProj,outProj,x,y)
#         utmxy[int(row['id'])]=(c,z)
        r1=cz[0]
        r2=cz[1]
        rx.append(r1)
        ry.append(r2)
    rx=np.array(rx)
    ry=np.array(ry)
    return rx,ry
    
 rx,ry=tran(node)
 
 node_id = list(node.id)
rx = list(rx)
ry = list(ry)
typ = list(node.type)
dn1 = {'id':node_id,'x':rx,'y':ry,'type':typ}
df1=pd.DataFrame(dn1)
# df1.set_index('id');

# distance between links

# check the distance between two different points
L1=df1.x[3],df1.y[3]
L2=df1.x[5],df1.y[5]
dist = distance.euclidean(L1, L2)
print(dist/1000, "km")


# data1 and data2 should be node and link, respectively
def Length(data1,data2):  
    dist=[]
    for index, row in data2.iterrows():
        sp=data1[data1.id==row['start_node']]
        start_x, start_y = (list(sp.x),list(sp.y))
        ep=data1[data1.id==row['end_node']]
        end_x,end_y=(list(ep.x),list(ep.y))
        lal = distance.euclidean((start_x, start_y),(end_x,end_y))
        dist.append(lal)
    dist=np.array(dist)
    return dist
link['link_m']=list(Length(node,link))



# node types
a = node[node['type']==1]
b = node[node['type']==2]
c = node[node['type']==3]

# pipe types
p1 = link[link['type']==1]
p2 = link[link['type']==2]


# calculate distances,intensity from epicenter
r1, pga1, pgv1, pos1 = Distance.com_pga_dist(a,ex,ey,M)
r2, pga2, pgv2, pos2 = Distance.com_pga_dist(b,ex,ey,M)
r3, pga3, pgv3, pos3 = Distance.com_pga_dist(c,ex,ey,M)


# plot graps with various components
G1=nx.Graph()
G1.add_nodes_from(pos1)
G2=nx.Graph()
G2.add_nodes_from(pos2)
G3=nx.Graph()
G3.add_nodes_from(pos3)
nx.draw(G1,pos1,node_size=20,node_color='r',with_labels=False)
nx.draw(G2,pos2,node_size=20,node_color='b',with_labels=False)
nx.draw(G3,pos3,node_size=20,node_color='g',with_labels=False)


r, pga, pgv, pos = Distance.com_pga_dist(node,ex,ey,M)
    
d1 = []
for index, row in p1.iterrows():
    stt = str(row['start_node'])+str(row['end_node']).rjust(10)
    d1.append(stt)
d2 = []
for index, row in p2.iterrows():
    stt = str(row['start_node'])+str(row['end_node']).rjust(10)
    d2.append(stt)



# draw Graph of water network
G4 = nx.parse_edgelist(d1,nodetype=int)
G5 = nx.parse_edgelist(d2,nodetype=int)
nx.draw(G4,pos,node_size=10, node_color='k', edge_color='r',width=1.5)
nx.draw(G5,pos,node_size=10, node_color='k', edge_color='b',width=1.5)
nx.draw(G1,pos1,node_size=10,node_color='k',with_labels=False)
nx.draw(G2,pos2,node_size=10,node_color='k',with_labels=False)
nx.draw(G3,pos3,node_size=60,node_color='g',with_labels=False)
plt.savefig('Fairfield_Network.png', dpi = 600,bbox_inches='tight')



G = nx.parse_edgelist(d, nodetype = int, data=(('id',int),))
# jet=plt.cm.jet
nx.draw(G,pos,node_size=20,edge_color = 'k',node_color=n_out.node_pga,width=0.5,with_labels=False)
sm = plt.cm.ScalarMappable(norm=plt.Normalize(n_out.node_pga.min(), n_out.node_pga.max()))
plt.colorbar(sm,label='PGA(g)',shrink=0.7)
plt.scatter(ex, ey, s=500, c='r', marker='*', zorder=2)
plt.savefig('Fairfield_Node_PGA.png', dpi = 600,bbox_inches='tight')
